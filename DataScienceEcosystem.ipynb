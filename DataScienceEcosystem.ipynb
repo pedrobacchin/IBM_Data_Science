{
 "cells": [
  {
   "cell_type": "markdown",
   "id": "247dada8-2f40-4be3-9282-be08a3b2c2ec",
   "metadata": {},
   "source": [
    "<h1>Data Science Tools and Ecosystem"
   ]
  },
  {
   "cell_type": "markdown",
   "id": "5dddeb0c-e41f-415b-82a5-4eecaac17628",
   "metadata": {},
   "source": [
    "In this notebook, Data Science Tools and Ecosystem are summarized"
   ]
  },
  {
   "cell_type": "markdown",
   "id": "cf79a8af-3ac9-46f8-a6a9-3718c122ad55",
   "metadata": {},
   "source": [
    "Some of the popular languages that Data Scientists use are:\n",
    "\n",
    "    1. Python\n",
    "    \n",
    "    2. R\n",
    "    \n",
    "    3. Julia\n",
    "    \n",
    "    4. SQL"
   ]
  },
  {
   "cell_type": "markdown",
   "id": "90fbb95c-89e5-4c35-9b32-978dd23e6f09",
   "metadata": {},
   "source": [
    "Some of the commonly used libraries used by Data Scientists include:\n",
    "\n",
    "    1. TensorFlow\n",
    "    \n",
    "    2. SciPy\n",
    "    \n",
    "    3. NumPy\n",
    "    \n",
    "    4. Pandas\n",
    "    \n",
    "    5. Matplotlib\n",
    "    \n",
    "    6. Keras\n",
    "    \n",
    "    7. Scikit-learn\n",
    "    \n",
    "    8. PyTorch"
   ]
  },
  {
   "cell_type": "markdown",
   "id": "b6a906ae-720a-47a9-a14d-92319d7b1cb5",
   "metadata": {},
   "source": [
    "Data Science Tools  | \n",
    "------------- | \n",
    "Anaconda |\n",
    "Jupyter Notebooks |\n",
    "R Studio  |\n",
    "Spyder |"
   ]
  },
  {
   "cell_type": "markdown",
   "id": "2cddce92-1f64-479b-96f4-daa1b8f12a0a",
   "metadata": {},
   "source": [
    "Below are a few examples of evaluating arithmetic expressions in Python"
   ]
  },
  {
   "cell_type": "code",
   "execution_count": 1,
   "id": "010a56ee-36c6-4c1d-b3cc-52086ee2bf2f",
   "metadata": {},
   "outputs": [
    {
     "data": {
      "text/plain": [
       "17"
      ]
     },
     "execution_count": 1,
     "metadata": {},
     "output_type": "execute_result"
    }
   ],
   "source": [
    "# This a simple arithmetic expression to mutiply then add integers\n",
    "(3*4)+5"
   ]
  },
  {
   "cell_type": "code",
   "execution_count": 2,
   "id": "691a13fb-bd99-47ce-a1fe-0ce95bd1eb23",
   "metadata": {},
   "outputs": [
    {
     "data": {
      "text/plain": [
       "3.3333333333333335"
      ]
     },
     "execution_count": 2,
     "metadata": {},
     "output_type": "execute_result"
    }
   ],
   "source": [
    "# This will convert 200 minutes to hours by diving by 60\n",
    "200/60"
   ]
  },
  {
   "cell_type": "markdown",
   "id": "5e4d0385-cac8-4a7f-bccf-28da38af571f",
   "metadata": {},
   "source": [
    "**Objectives:**\n",
    "- List popular languages for Data Science\n",
    "- Create Markdown cells\n",
    "- Create simple arithmetic equations\n",
    "- Create markdown tables"
   ]
  },
  {
   "cell_type": "markdown",
   "id": "2609ff9b-7bc8-4d58-af2f-eace45480837",
   "metadata": {},
   "source": [
    "<h2>Author<h2>\n",
    "\n",
    "    Pedro Vitor Bacchin"
   ]
  },
  {
   "cell_type": "code",
   "execution_count": null,
   "id": "57683934-f648-430c-a581-85270476b6ab",
   "metadata": {},
   "outputs": [],
   "source": []
  }
 ],
 "metadata": {
  "kernelspec": {
   "display_name": "Python",
   "language": "python",
   "name": "conda-env-python-py"
  },
  "language_info": {
   "codemirror_mode": {
    "name": "ipython",
    "version": 3
   },
   "file_extension": ".py",
   "mimetype": "text/x-python",
   "name": "python",
   "nbconvert_exporter": "python",
   "pygments_lexer": "ipython3",
   "version": "3.7.12"
  }
 },
 "nbformat": 4,
 "nbformat_minor": 5
}
