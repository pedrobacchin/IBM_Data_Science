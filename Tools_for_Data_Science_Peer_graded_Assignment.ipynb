{
 "cells": [
  {
   "cell_type": "markdown",
   "id": "383906de-8f2d-4cd5-8ab1-a4191d220a57",
   "metadata": {},
   "source": [
    "<h1>Tools for Data Science - Peer-graded Assignment"
   ]
  },
  {
   "cell_type": "markdown",
   "id": "ca8781b6-5360-428e-a8e7-0365198e6a20",
   "metadata": {},
   "source": [
    "<h2>Introduction: Assignment for completion of the course: IBM Data Science - Tools for data Science "
   ]
  },
  {
   "cell_type": "markdown",
   "id": "040e72c8-b82a-4754-afdb-7064659a7b7d",
   "metadata": {},
   "source": [
    "**<h3>Data Science Languages:**\n",
    "    \n",
    "    -Python\n",
    "    \n",
    "    -R\n",
    "    \n",
    "    -Julia\n",
    "    \n",
    "    -SQL"
   ]
  },
  {
   "cell_type": "markdown",
   "id": "847d1502-5d09-4727-8645-e5ad7f60885c",
   "metadata": {},
   "source": [
    "**<h3>Data Science Libraries:**\n",
    "    \n",
    "    1. TensorFlow\n",
    "    \n",
    "    2. SciPy\n",
    "    \n",
    "    3. NumPy\n",
    "    \n",
    "    4. Pandas\n",
    "    \n",
    "    5. Matplotlib\n",
    "    \n",
    "    6. Keras\n",
    "    \n",
    "    7. Scikit-learn\n",
    "    \n",
    "    8. PyTorch"
   ]
  },
  {
   "cell_type": "markdown",
   "id": "b80c323c-134d-4785-b69f-bea6e134cc82",
   "metadata": {},
   "source": [
    "**<h3>Data Science Tools:**\n",
    "    \n",
    "Name  | Description\n",
    "------------- | -------------\n",
    "MS Excel  | most fundamental & essential tool that everyone should know\n",
    "Google Analytics | ...professional data science tool and framework that gives an in-depth look at an enterprise website or app performance for data-driven insight\n",
    "Matlab | ...closed-source, high-performing, numerical, computational, simulation-making, multi-paradigm data science tool for processing mathematical and data-driven task\n",
    "Python | ...the most widely used data science programming language.\n",
    "R | ...robust programming language that competes with Python when it comes to data science."
   ]
  },
  {
   "cell_type": "markdown",
   "id": "c72142a9-b3dc-47d3-924e-4b54c39dbd30",
   "metadata": {},
   "source": [
    "**<h3>Arithmetic Expression Examples:**\n",
    "    \n",
    "    - 1+1=2\n",
    "    \n",
    "    - 1-1=0\n",
    "    \n",
    "    - 2*3=6\n",
    "    \n",
    "    - 15/3=5\n",
    "    "
   ]
  },
  {
   "cell_type": "code",
   "execution_count": 10,
   "id": "0863a877-1008-4ce4-a312-81eb107887ef",
   "metadata": {},
   "outputs": [
    {
     "data": {
      "text/plain": [
       "2"
      ]
     },
     "execution_count": 10,
     "metadata": {},
     "output_type": "execute_result"
    }
   ],
   "source": [
    "a=1\n",
    "b=1\n",
    "a+b"
   ]
  },
  {
   "cell_type": "code",
   "execution_count": 12,
   "id": "2ea0b813-d3e9-4909-8deb-cb68aaf9689c",
   "metadata": {},
   "outputs": [
    {
     "data": {
      "text/plain": [
       "6"
      ]
     },
     "execution_count": 12,
     "metadata": {},
     "output_type": "execute_result"
    }
   ],
   "source": [
    "a=2\n",
    "b=3\n",
    "a*b"
   ]
  },
  {
   "cell_type": "code",
   "execution_count": 14,
   "id": "eac076dd-a16e-4e65-a25d-be82fd38ccba",
   "metadata": {},
   "outputs": [
    {
     "name": "stdout",
     "output_type": "stream",
     "text": [
      "2.0\n"
     ]
    }
   ],
   "source": [
    "minutes=120\n",
    "hours=minutes/60\n",
    "print(hours)"
   ]
  },
  {
   "cell_type": "markdown",
   "id": "9395c027-b110-4e11-9342-c119f667b8e8",
   "metadata": {},
   "source": [
    "**<h3>Objectives:**\n",
    "    \n",
    "    - Finish the course\n",
    "    \n",
    "    - Start next course\n",
    "    \n",
    "    - Conquer the Europe + 1 territory\n",
    "    \n",
    "    "
   ]
  },
  {
   "cell_type": "markdown",
   "id": "31b6fb76-65c4-44f6-8986-051d1888b0f2",
   "metadata": {},
   "source": [
    "**<h3>Author's Name: Pedro Vitor Bacchin**"
   ]
  },
  {
   "cell_type": "code",
   "execution_count": null,
   "id": "523069e9-0ece-4c26-8fa7-ef9dc8a05409",
   "metadata": {},
   "outputs": [],
   "source": []
  }
 ],
 "metadata": {
  "kernelspec": {
   "display_name": "Python",
   "language": "python",
   "name": "conda-env-python-py"
  },
  "language_info": {
   "codemirror_mode": {
    "name": "ipython",
    "version": 3
   },
   "file_extension": ".py",
   "mimetype": "text/x-python",
   "name": "python",
   "nbconvert_exporter": "python",
   "pygments_lexer": "ipython3",
   "version": "3.7.12"
  }
 },
 "nbformat": 4,
 "nbformat_minor": 5
}
